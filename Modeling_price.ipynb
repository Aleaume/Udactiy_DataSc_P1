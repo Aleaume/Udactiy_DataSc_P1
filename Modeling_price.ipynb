{
 "cells": [
  {
   "cell_type": "markdown",
   "metadata": {},
   "source": [
    "# Modeling prices\n",
    "\n",
    "##  How to price correctly your property on the Airbnb market ? (using ML)"
   ]
  },
  {
   "cell_type": "code",
   "execution_count": 2,
   "metadata": {},
   "outputs": [],
   "source": [
    "import numpy as np\n",
    "import pandas as pd\n",
    "import matplotlib.pyplot as plt\n",
    "import seaborn as sns\n",
    "from IPython import display\n",
    "%matplotlib inline"
   ]
  },
  {
   "cell_type": "code",
   "execution_count": 3,
   "metadata": {},
   "outputs": [],
   "source": [
    "#Loading the data\n",
    "# Picked up from http://insideairbnb.com/get-the-data/\n",
    "\n",
    "#df = pd.read_csv('Florence/listings_Sample.csv')\n",
    "df = pd.read_csv('Florence/listings_Full.csv')"
   ]
  },
  {
   "cell_type": "code",
   "execution_count": 4,
   "metadata": {},
   "outputs": [],
   "source": [
    "#Our target being the prices we would use the work previously done in Prices.ipynb\n",
    "\n",
    "#We remove the dollar sign as first character, remove thousands comma separator and convert to float.\n",
    "\n",
    "df['price_clean'] = df['price'].str[1:].str.replace(\",\",\"\").astype(float)\n",
    "\n",
    "# We now need to clean outliers\n",
    "# In this case we decided to removea the values above 90th percentile and below 10th percentile\n",
    "\n",
    "df = df[df['price_clean'] <= df['price_clean'].quantile(.9)]\n",
    "df = df[df['price_clean'] >= df['price_clean'].quantile(.1)]"
   ]
  },
  {
   "cell_type": "code",
   "execution_count": 5,
   "metadata": {},
   "outputs": [
    {
     "data": {
      "text/plain": [
       "name                            0.000114\n",
       "bathrooms_text                  0.000457\n",
       "host_location                   0.001255\n",
       "beds                            0.008560\n",
       "description                     0.014723\n",
       "bedrooms                        0.033326\n",
       "host_acceptance_rate            0.100662\n",
       "host_response_rate              0.136384\n",
       "host_response_time              0.136384\n",
       "review_scores_rating            0.141520\n",
       "last_review                     0.141520\n",
       "first_review                    0.141520\n",
       "reviews_per_month               0.141520\n",
       "review_scores_accuracy          0.145058\n",
       "review_scores_cleanliness       0.145058\n",
       "review_scores_communication     0.145172\n",
       "review_scores_checkin           0.145286\n",
       "review_scores_location          0.145286\n",
       "review_scores_value             0.145401\n",
       "host_neighbourhood              0.272655\n",
       "host_about                      0.352659\n",
       "neighborhood_overview           0.359279\n",
       "neighbourhood                   0.359279\n",
       "license                         0.920110\n",
       "calendar_updated                1.000000\n",
       "neighbourhood_group_cleansed    1.000000\n",
       "bathrooms                       1.000000\n",
       "dtype: float64"
      ]
     },
     "execution_count": 5,
     "metadata": {},
     "output_type": "execute_result"
    }
   ],
   "source": [
    "# Remove missing data\n",
    "\n",
    "df_missing = df.columns[df.isnull().any()]\n",
    "df_missing_num = df[df_missing].isnull().sum()/len(df)\n",
    "df_missing_num.sort_values(ascending=True, inplace=True)\n",
    "df_missing_num"
   ]
  },
  {
   "cell_type": "code",
   "execution_count": null,
   "metadata": {},
   "outputs": [],
   "source": [
    "#Property type\n",
    "#Neighborhood\n",
    "#Top 10 amenities\n",
    "#license\n"
   ]
  }
 ],
 "metadata": {
  "kernelspec": {
   "display_name": "Python 3.8.5 ('base')",
   "language": "python",
   "name": "python3"
  },
  "language_info": {
   "codemirror_mode": {
    "name": "ipython",
    "version": 3
   },
   "file_extension": ".py",
   "mimetype": "text/x-python",
   "name": "python",
   "nbconvert_exporter": "python",
   "pygments_lexer": "ipython3",
   "version": "3.8.5"
  },
  "orig_nbformat": 4,
  "vscode": {
   "interpreter": {
    "hash": "c79c4358b949a0ee2d7e2d04baf6a08d44c4d984c64c212f6b1c20230d24189d"
   }
  }
 },
 "nbformat": 4,
 "nbformat_minor": 2
}
