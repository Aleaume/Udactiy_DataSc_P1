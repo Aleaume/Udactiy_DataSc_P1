{
 "cells": [
  {
   "cell_type": "markdown",
   "metadata": {},
   "source": [
    "# Prices\n",
    "\n",
    "##  What are the typical prices for airbnb properties ?"
   ]
  },
  {
   "cell_type": "markdown",
   "metadata": {},
   "source": [
    "### Gather Data"
   ]
  },
  {
   "cell_type": "code",
   "execution_count": 2,
   "metadata": {},
   "outputs": [],
   "source": [
    "import numpy as np\n",
    "import pandas as pd\n",
    "import matplotlib.pyplot as plt\n",
    "import seaborn as sns\n",
    "from IPython import display\n",
    "%matplotlib inline"
   ]
  },
  {
   "cell_type": "code",
   "execution_count": 3,
   "metadata": {},
   "outputs": [],
   "source": [
    "#Loading the data\n",
    "# Picked up from http://insideairbnb.com/get-the-data/\n",
    "\n",
    "#df = pd.read_csv('Florence/listings_Sample.csv')\n",
    "df = pd.read_csv('Florence/listings_Full.csv')"
   ]
  },
  {
   "cell_type": "markdown",
   "metadata": {},
   "source": [
    "### Cleaning Data"
   ]
  },
  {
   "cell_type": "code",
   "execution_count": 4,
   "metadata": {},
   "outputs": [
    {
     "data": {
      "text/plain": [
       "0         104.0\n",
       "1         195.0\n",
       "2          80.0\n",
       "3         110.0\n",
       "4          70.0\n",
       "          ...  \n",
       "10743     560.0\n",
       "10744     218.0\n",
       "10745      86.0\n",
       "10746    3814.0\n",
       "10747     120.0\n",
       "Name: price_clean, Length: 10748, dtype: float64"
      ]
     },
     "execution_count": 4,
     "metadata": {},
     "output_type": "execute_result"
    }
   ],
   "source": [
    "#We remove the dollar sign as first character, remove thousands comma separator and convert to float.\n",
    "\n",
    "df['price_clean'] = df['price'].str[1:].str.replace(\",\",\"\").astype(float)\n",
    "\n",
    "df['price_clean']"
   ]
  },
  {
   "cell_type": "code",
   "execution_count": 16,
   "metadata": {},
   "outputs": [],
   "source": [
    "# We now need to clean outliers\n",
    "# In this case we decided to removea the values above 90th percentile and below 10th percentile\n",
    "\n",
    "df_out_clean = df[df['price_clean'] <= df['price_clean'].quantile(.9)]\n",
    "df_out_clean = df_out_clean[df_out_clean['price_clean'] >= df_out_clean['price_clean'].quantile(.1)]"
   ]
  },
  {
   "cell_type": "markdown",
   "metadata": {},
   "source": [
    "### Analyze & Visualize Data"
   ]
  },
  {
   "cell_type": "code",
   "execution_count": 20,
   "metadata": {},
   "outputs": [
    {
     "name": "stdout",
     "output_type": "stream",
     "text": [
      "count    8762.000000\n",
      "mean      126.358252\n",
      "std        66.918249\n",
      "min        45.000000\n",
      "25%        75.000000\n",
      "50%       106.000000\n",
      "75%       160.000000\n",
      "max       325.000000\n",
      "Name: price_clean, dtype: float64\n"
     ]
    },
    {
     "data": {
      "text/plain": [
       "<matplotlib.lines.Line2D at 0x12c46e63c70>"
      ]
     },
     "execution_count": 20,
     "metadata": {},
     "output_type": "execute_result"
    },
    {
     "data": {
      "image/png": "[encoded data removed]",
      "text/plain": [
       "<Figure size 360x360 with 1 Axes>"
      ]
     },
     "metadata": {
      "needs_background": "light"
     },
     "output_type": "display_data"
    },
    {
     "ename": "",
     "evalue": "",
     "output_type": "error",
     "traceback": [
      "\u001b[1;31mThe Kernel crashed while executing code in the the current cell or a previous cell. Please review the code in the cell(s) to identify a possible cause of the failure. Click <a href='https://aka.ms/vscodeJupyterKernelCrash'>here</a> for more info. View Jupyter <a href='command:jupyter.viewOutput'>log</a> for further details."
     ]
    }
   ],
   "source": [
    "# We can now lookg at Prices Statistics\n",
    "\n",
    "print(df_out_clean['price_clean'].describe())\n",
    "\n",
    "\n",
    "# And now we plot the prices to visualize the mean an the distribution\n",
    "\n",
    "sns.displot(data=df_out_clean, x=\"price_clean\")\n",
    "plt.xlabel(\"Price in $ US per night\", size=14)\n",
    "plt.ylabel(\"Count of Properties\", size=14)\n",
    "plt.axvline(x=df_out_clean.price_clean.mean(),\n",
    "            color='red')"
   ]
  },
  {
   "cell_type": "markdown",
   "metadata": {},
   "source": [
    "### Conclusion\n",
    "\n",
    "Ranging from 45 US$ to 325 US$ a night (outliers cleaned), Florence gives a mean price per night of 125 US$ (~130€).\n",
    "\n",
    "That leaves us with interested findings already, the average property on Airbnb in Florence will bring about 11'125 US$ yearly (11'570€)"
   ]
  }
 ],
 "metadata": {
  "kernelspec": {
   "display_name": "Python 3.8.5 ('base')",
   "language": "python",
   "name": "python3"
  },
  "language_info": {
   "codemirror_mode": {
    "name": "ipython",
    "version": 3
   },
   "file_extension": ".py",
   "mimetype": "text/x-python",
   "name": "python",
   "nbconvert_exporter": "python",
   "pygments_lexer": "ipython3",
   "version": "3.8.5"
  },
  "orig_nbformat": 4,
  "vscode": {
   "interpreter": {
    "hash": "c79c4358b949a0ee2d7e2d04baf6a08d44c4d984c64c212f6b1c20230d24189d"
   }
  }
 },
 "nbformat": 4,
 "nbformat_minor": 2
}
